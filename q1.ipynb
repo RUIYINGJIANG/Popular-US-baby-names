{
 "cells": [
  {
   "cell_type": "markdown",
   "id": "19d2e42b",
   "metadata": {},
   "source": [
    "## Q1: Popular US baby names (35 marks)\n",
    "\n",
    "\n",
    "---\n",
    "### !!! VERY IMPORTANT. PLEASE READ !!!\n",
    "\n",
    "* **Please DO NOT upload any data (TXT files, pdf files, .db file, etc) to GitHub for this part as the data is too large!**\n",
    "    * There are some restriction and issues if you upload files that are too large in GitHub. See [here](https://docs.github.com/en/repositories/working-with-files/managing-large-files/about-large-files-on-github) to learn more\n",
    "    * **You will lose marks if you have uploaded any of them - even if you delete them afterwards**\n",
    "    * When uploading your work via GitHub Desktop, you can select what files to upload on the left by checking (and unchecking) the boxes corresponding to the files you want to (and do not want to) upload, as demonstrated in Workshop 5\n",
    "        * I have modified the setting for your problem set repository so that by default it should not let you upload the `data/namesbystate` folder, the `data/namesbystate.zip`, or the `.db` file, and you should not see them available on the left\n",
    "        * However, if for some reason any of the data files appear on the left, you should uncheck the boxes corresponding to those files  \n",
    "    \n",
    "---\n",
    "\n",
    "In this question, we will use the US baby names dataset from The United States Social Security Administration to create a database and answer some questions.\n",
    "\n",
    "1. Go to https://www.ssa.gov/oact/babynames/limits.html, read the [Background information](https://www.ssa.gov/oact/babynames/background.html),  download the state-specific data on baby names, save the zip file under the `data` folder and unzip the file in the `data` folder\n",
    "\n",
    "> * Note:\n",
    ">    * Each TXT file should be under the `data/namesbystate` folder. Please DO NOT add/delete/modify any of the files\n",
    ">    * Please DO NOT upload any of the TXT files as mentioned above\n",
    "\n",
    "2. [Database normalisation] Read the \"readme\" file in the dowloaded folder and have a look of some of the tables in the TXT files. Find out if the tables represented by the TXT files are in 1NF? 2NF? 3NF? Please explain your answer\n",
    "3. [Manage data in database] Use the Python module `sqlite3` with SQL commands, create a database and create a table containing the records from all the TXT files. Please enforce the right constraints on each attribute, including setting the primary key\n",
    "\n",
    "> * Note: \n",
    ">     * The code used should be as \"automatic\" as possible. For example, you should NOT need to write separate code to load each of the files, or separate SQL commands to insert each line of records\n",
    ">     * Please DO NOT upload the database data (`.db` file) as mentioned above\n",
    "\n",
    "4. [SQL query] Answer each part below using _one single SQL query_ via `sqlite3`:\n",
    "    * (a) Find out the number of baby boys and the number of baby girls born in California (CA) in each year from 2010\n",
    "        * Do you observe any trend?\n",
    "    * (b) List out the most popular boy names and the most popular girl names with the corresponding counts in the US in every 10 years from 1910 to 2020\n",
    "        * Here \"the most popular boy/girl name\" in a given year means it is the name with the highest number of boy/girl babies born in that year in the US with that name\n",
    "        * Your result should have 22 names and 22 counts corresponding to 1910 boy, 1920 boy, ..., 2020 boy, 1910 girl, 1920 girl, ..., 2020 girl\n",
    "        * You can hard code all the years if you want to\n",
    "        * For (4b), you do not need to worry if there are two names with the same number of counts in this part - giving one of the names with the highest count is sufficient\n",
    "    * (c) List out the most popular baby names and corresponding counts in each state in 2020, order the counts in descending order\n",
    "        * In order words, for each state, provide the baby name(s) that has the highest number of babies born in 2020 with that name, and the corresponding number of babies born in 2020 with that name)\n",
    "        \n",
    "    Please make sure all query results are shown in the notebook. You SHOULD NOT make use of any SQL command / keywords that we did not cover in the course.\n",
    "            \n",
    "> * Note:\n",
    ">     * Each part should be answered by using _one_ SQL query only\n",
    ">         * A query involving subquery counts as one query \n",
    ">     * The result from the SQL query should answer the corresponding part _directly_ and should NOT require any further cleaning or effort. For example:\n",
    ">         * You should NOT make use of Python functionality like loops, slicing, `Pandas` functionality, etc\n",
    ">         * It should NOT involve eyeballing the answer\n",
    ">             * Except for the question \"Do you observe any trend?\"\n",
    ">         * It should NOT involve hard coding of values except those mentioned in the questions \n",
    ">             * For example, it is okay to hard code 2020 for part (c) as 2020 is mentioned in the question, but if you hard code the maximum count for part (c) you will lose marks as it should be found via SQL query\n",
    ">             \n",
    ">     * _If_ you cannot use one query to answer the question, you can answer with a few queries with some hard coding\n",
    ">         * But of course you will lose some points\n",
    ">     * Please state the assumptions that you have made when answering the questions\n",
    "\n",
    "---"
   ]
  },
  {
   "cell_type": "markdown",
   "id": "cf8a824d",
   "metadata": {},
   "source": [
    "# 2.\n",
    "\n",
    "The tables represented by the TXT files are in 3NF<b>\n",
    "\n",
    "satisfies 1NF :\n",
    "    \n",
    "entity : name<br>\n",
    "the table has exactly one value for every row-and-column intersection<br>\n",
    "Unique column names <br>\n",
    "there are no NULL values.<br>\n",
    "Primary key and no duplicate rows<b>r\n",
    "\n",
    "satisfies 2NF :\n",
    "    \n",
    "the primary key is (sex, year of birth ) and the non-key attribute 'character name' depend on the whole key, so there is no partial dependency.\n",
    "\n",
    "satisfies 3NF :\n",
    "    \n",
    "non-key attribute 'character name' s non-transitively dependent on every key of the table. hence there is no ransitively dependency.\n",
    "\n",
    "\n",
    "\n"
   ]
  },
  {
   "cell_type": "markdown",
   "id": "906cb72d",
   "metadata": {},
   "source": [
    "# 3"
   ]
  },
  {
   "cell_type": "code",
   "execution_count": 1,
   "id": "c76adbd2",
   "metadata": {},
   "outputs": [],
   "source": [
    "# create a database: names_state\n",
    "import sqlite3"
   ]
  },
  {
   "cell_type": "code",
   "execution_count": 2,
   "id": "bbc4aa3c",
   "metadata": {},
   "outputs": [],
   "source": [
    "import os\n",
    "\n",
    "if os.path.exists(\"names_state.db\"):\n",
    "    os.remove(\"names_state.db\") \n",
    "con = sqlite3.connect(\"names_state.db\") \n",
    "con.execute('PRAGMA foreign_keys = ON;');"
   ]
  },
  {
   "cell_type": "markdown",
   "id": "fda5dfc7",
   "metadata": {},
   "source": [
    "create a table names_state"
   ]
  },
  {
   "cell_type": "code",
   "execution_count": 3,
   "id": "808abce5",
   "metadata": {},
   "outputs": [],
   "source": [
    "#merge texts as files\n",
    "import os\n",
    "import numpy as np \n",
    "files = os.listdir('data/namesbystate/')"
   ]
  },
  {
   "cell_type": "code",
   "execution_count": 4,
   "id": "7869d11f",
   "metadata": {},
   "outputs": [],
   "source": [
    "# construct 2d_list (namesbystate)\n",
    "old_namesbystate = []\n",
    "for file_name in files:\n",
    "    if file_name[0]!= '.': # make sure the file is not hidden file\n",
    "        with open('data/namesbystate/'+file_name) as f: \n",
    "            for line in f :\n",
    "                words = (line.strip()).split(\",\")\n",
    "                words[2] = int(words[2])\n",
    "                words[4] = int(words[4])#转化year + num of name 从str转为int\n",
    "                old_namesbystate.append(words)"
   ]
  },
  {
   "cell_type": "code",
   "execution_count": 5,
   "id": "14b8c7ac",
   "metadata": {},
   "outputs": [
    {
     "data": {
      "text/plain": [
       "[['AK', 'F', 1910, 'Mary', 14],\n",
       " ['AK', 'F', 1910, 'Annie', 12],\n",
       " ['AK', 'F', 1910, 'Anna', 10],\n",
       " ['AK', 'F', 1910, 'Margaret', 8],\n",
       " ['AK', 'F', 1910, 'Helen', 7],\n",
       " ['AK', 'F', 1910, 'Elsie', 6],\n",
       " ['AK', 'F', 1910, 'Lucy', 6],\n",
       " ['AK', 'F', 1910, 'Dorothy', 5],\n",
       " ['AK', 'F', 1911, 'Mary', 12],\n",
       " ['AK', 'F', 1911, 'Margaret', 7]]"
      ]
     },
     "execution_count": 5,
     "metadata": {},
     "output_type": "execute_result"
    }
   ],
   "source": [
    "#check\n",
    "old_namesbystate[0:10]"
   ]
  },
  {
   "cell_type": "code",
   "execution_count": 6,
   "id": "26555708",
   "metadata": {},
   "outputs": [],
   "source": [
    "# create a table(names_state)\n",
    "import sqlite3\n",
    "con.execute('DROP TABLE IF EXISTS names_state;') \n",
    "\n",
    "con.execute('''CREATE TABLE names_state(\n",
    "               stateCode TEXT NOT NULL,\n",
    "               sex TEXT NOT NULL, \n",
    "               year TEXT NOT NULL CHECK(length(year) = 4),\n",
    "               name TEXT NOT NULL,\n",
    "               num_occ INTEGER CHECK(num_occ >= 5),\n",
    "               PRIMARY KEY(stateCode,sex,year,name));''');"
   ]
  },
  {
   "cell_type": "code",
   "execution_count": 7,
   "id": "3a17932e",
   "metadata": {},
   "outputs": [],
   "source": [
    "con.commit();"
   ]
  },
  {
   "cell_type": "code",
   "execution_count": 8,
   "id": "0de00c78",
   "metadata": {},
   "outputs": [],
   "source": [
    "for one_namestate in old_namesbystate:\n",
    "    con.execute(\"INSERT INTO names_state VALUES(?, ?, ?, ?, ? );\", one_namestate);\n",
    "con.commit();"
   ]
  },
  {
   "cell_type": "markdown",
   "id": "6c32c8cf",
   "metadata": {},
   "source": [
    "# 4"
   ]
  },
  {
   "cell_type": "code",
   "execution_count": 9,
   "id": "3c0778ea",
   "metadata": {},
   "outputs": [],
   "source": [
    "#(a) "
   ]
  },
  {
   "cell_type": "code",
   "execution_count": 10,
   "id": "d24b659b",
   "metadata": {},
   "outputs": [
    {
     "data": {
      "text/plain": [
       "'Connected: @names_state.db'"
      ]
     },
     "execution_count": 10,
     "metadata": {},
     "output_type": "execute_result"
    }
   ],
   "source": [
    "%load_ext sql\n",
    "%sql sqlite:///names_state.db"
   ]
  },
  {
   "cell_type": "markdown",
   "id": "67f83faa",
   "metadata": {},
   "source": [
    "#num of boys born in California (CA) in each year from 2010"
   ]
  },
  {
   "cell_type": "code",
   "execution_count": 11,
   "id": "2038dbac",
   "metadata": {},
   "outputs": [],
   "source": [
    "import sqlite3"
   ]
  },
  {
   "cell_type": "code",
   "execution_count": 12,
   "id": "a800ff8d",
   "metadata": {},
   "outputs": [],
   "source": [
    "con = sqlite3.connect(\"names_state.db\")\n",
    "result_b = con.execute('''SELECT year, COUNT(*) \n",
    "                        FROM names_state\n",
    "                        where stateCode = 'CA'AND sex ='M'\n",
    "                        GROUP BY year\n",
    "                        HAVING year>=2010''').fetchall()\n"
   ]
  },
  {
   "cell_type": "markdown",
   "id": "07a0826b",
   "metadata": {},
   "source": [
    "#num of girls born in California (CA) in each year from 2010"
   ]
  },
  {
   "cell_type": "code",
   "execution_count": 13,
   "id": "6ff8c760",
   "metadata": {},
   "outputs": [],
   "source": [
    "con = sqlite3.connect(\"names_state.db\")\n",
    "result_g = con.execute('''SELECT year, COUNT(*)\n",
    "                        FROM names_state\n",
    "                        where stateCode = 'CA'AND sex ='F'\n",
    "                        GROUP BY year\n",
    "                        HAVING year >= 2010''').fetchall()"
   ]
  },
  {
   "cell_type": "code",
   "execution_count": 14,
   "id": "1d0e958b",
   "metadata": {},
   "outputs": [
    {
     "data": {
      "text/plain": [
       "[('2010', 2912),\n",
       " ('2011', 2889),\n",
       " ('2012', 2912),\n",
       " ('2013', 2898),\n",
       " ('2014', 2940),\n",
       " ('2015', 2937),\n",
       " ('2016', 2908),\n",
       " ('2017', 2930),\n",
       " ('2018', 2853),\n",
       " ('2019', 2863),\n",
       " ('2020', 2793),\n",
       " ('2021', 2853)]"
      ]
     },
     "execution_count": 14,
     "metadata": {},
     "output_type": "execute_result"
    }
   ],
   "source": [
    "result_b"
   ]
  },
  {
   "cell_type": "code",
   "execution_count": 15,
   "id": "a1ea083f",
   "metadata": {},
   "outputs": [
    {
     "data": {
      "text/plain": [
       "[('2010', 4097),\n",
       " ('2011', 3994),\n",
       " ('2012', 4102),\n",
       " ('2013', 3968),\n",
       " ('2014', 4016),\n",
       " ('2015', 3940),\n",
       " ('2016', 3870),\n",
       " ('2017', 3763),\n",
       " ('2018', 3697),\n",
       " ('2019', 3655),\n",
       " ('2020', 3614),\n",
       " ('2021', 3646)]"
      ]
     },
     "execution_count": 15,
     "metadata": {},
     "output_type": "execute_result"
    }
   ],
   "source": [
    "result_g"
   ]
  },
  {
   "cell_type": "markdown",
   "id": "aad9b5db",
   "metadata": {},
   "source": [
    "The number of babys girls born in CA from 2010 was decreasing year by year \n",
    "\n",
    "The number of babys boys born in CA from 2010 was stable, fluated between 2800 to 2900"
   ]
  },
  {
   "cell_type": "code",
   "execution_count": 16,
   "id": "76c721db",
   "metadata": {},
   "outputs": [],
   "source": [
    "#(b) \n",
    "# List out the most popular boy names and the most popular girl names with the \n",
    "# corresponding counts in the US in every 10 years from 1910 to 2020"
   ]
  },
  {
   "cell_type": "code",
   "execution_count": 17,
   "id": "69671df9",
   "metadata": {},
   "outputs": [
    {
     "data": {
      "text/plain": [
       "[(1909, 'John', 'M', 1326, '1910 boy'),\n",
       " (1909, 'Mary', 'F', 2913, '1910 girl'),\n",
       " (1910, 'John', 'M', 7557, '1920 boy'),\n",
       " (1910, 'Mary', 'F', 8184, '1920 girl'),\n",
       " (1920, 'John', 'M', 7262, '1930 boy'),\n",
       " (1920, 'Mary', 'F', 7772, '1930 girl'),\n",
       " (1930, 'Mary', 'F', 4916, '1940 girl'),\n",
       " (1930, 'Robert', 'M', 6530, '1940 boy'),\n",
       " (1940, 'Linda', 'F', 7542, '1950 girl'),\n",
       " (1940, 'Robert', 'M', 10026, '1950 boy'),\n",
       " (1950, 'Patricia', 'F', 5678, '1960 girl'),\n",
       " (1950, 'Robert', 'M', 9219, '1960 boy'),\n",
       " (1960, 'Lisa', 'F', 5612, '1970 girl'),\n",
       " (1960, 'Michael', 'M', 9241, '1970 boy'),\n",
       " (1970, 'Jennifer', 'F', 6065, '1980 girl'),\n",
       " (1970, 'Michael', 'M', 6909, '1980 boy'),\n",
       " (1980, 'Jessica', 'F', 6846, '1990 girl'),\n",
       " (1980, 'Michael', 'M', 8247, '1990 boy'),\n",
       " (1990, 'Jessica', 'F', 6952, '2000 girl'),\n",
       " (1990, 'Michael', 'M', 7572, '2000 boy'),\n",
       " (2000, 'Daniel', 'M', 4170, '2010 boy'),\n",
       " (2000, 'Emily', 'F', 3416, '2010 girl'),\n",
       " (2010, 'Jacob', 'M', 3171, '2020 boy'),\n",
       " (2010, 'Sophia', 'F', 3644, '2020 girl')]"
      ]
     },
     "execution_count": 17,
     "metadata": {},
     "output_type": "execute_result"
    }
   ],
   "source": [
    "result= con.execute(''' SELECT MIN(year)-1 AS ten_y, name,sex,MAX(num_occ),\n",
    "CASE WHEN sex ='F' then '2020 girl'\n",
    "     WHEN sex ='M' then '2020 boy'\n",
    "ELSE 'NONE' END as title\n",
    "FROM names_state a\n",
    "WHERE year>2010  \n",
    "GROUP BY sex\n",
    "UNION\n",
    "SELECT MIN(year)-1 AS ten_y, name,sex,MAX(num_occ),\n",
    "CASE WHEN sex ='F' then '2010 girl'\n",
    "     WHEN sex ='M' then '2010 boy'\n",
    "ELSE 'NONE' END as title\n",
    "FROM names_state \n",
    "WHERE year>2000 and year <=2010 \n",
    "GROUP BY sex\n",
    "UNION\n",
    "SELECT MIN(year)-1 AS ten_y, name,sex,MAX(num_occ),\n",
    "CASE WHEN sex ='F' then '2000 girl'\n",
    "     WHEN sex ='M' then '2000 boy'\n",
    "ELSE 'NONE' END as title\n",
    "FROM names_state \n",
    "WHERE year>1990 and year <=2000\n",
    "GROUP BY sex\n",
    "UNION\n",
    "SELECT MIN(year)-1 AS ten_y, name,sex,MAX(num_occ),\n",
    "CASE WHEN sex ='F' then '1990 girl'\n",
    "     WHEN sex ='M' then '1990 boy'\n",
    "ELSE 'NONE' END as title\n",
    "FROM names_state \n",
    "WHERE year>1980 and year <=1990 \n",
    "GROUP BY sex\n",
    "UNION\n",
    "SELECT MIN(year)-1 AS ten_y, name,sex,MAX(num_occ),\n",
    "CASE WHEN sex ='F' then '1980 girl'\n",
    "     WHEN sex ='M' then '1980 boy'\n",
    "ELSE 'NONE' END as title\n",
    "FROM names_state \n",
    "WHERE year>1970 and year <=1980 \n",
    "GROUP BY sex\n",
    "UNION\n",
    "SELECT MIN(year)-1 AS ten_y, name,sex,MAX(num_occ),\n",
    "CASE WHEN sex ='F' then '1970 girl'\n",
    "     WHEN sex ='M' then '1970 boy'\n",
    "ELSE 'NONE' END as title\n",
    "FROM names_state \n",
    "WHERE year>1960 and year <=1970 \n",
    "GROUP BY sex\n",
    "UNION\n",
    "SELECT MIN(year)-1 AS ten_y, name,sex,MAX(num_occ),\n",
    "CASE WHEN sex ='F' then '1960 girl'\n",
    "     WHEN sex ='M' then '1960 boy'\n",
    "ELSE 'NONE' END as title\n",
    "FROM names_state \n",
    "WHERE year>1950 and year <=1960 \n",
    "GROUP BY sex\n",
    "UNION\n",
    "SELECT MIN(year)-1 AS ten_y, name,sex,MAX(num_occ),\n",
    "CASE WHEN sex ='F' then '1950 girl'\n",
    "     WHEN sex ='M' then '1950 boy'\n",
    "ELSE 'NONE' END as title\n",
    "FROM names_state \n",
    "WHERE year>1940 and year <=1950 \n",
    "GROUP BY sex\n",
    "UNION\n",
    "SELECT MIN(year)-1 AS ten_y, name,sex,MAX(num_occ),\n",
    "CASE WHEN sex ='F' then '1940 girl'\n",
    "     WHEN sex ='M' then '1940 boy'\n",
    "ELSE 'NONE' END as title\n",
    "FROM names_state \n",
    "WHERE year>1930 and year <=1940 \n",
    "GROUP BY sex\n",
    "UNION\n",
    "SELECT MIN(year)-1 AS ten_y, name,sex,MAX(num_occ),\n",
    "CASE WHEN sex ='F' then '1930 girl'\n",
    "     WHEN sex ='M' then '1930 boy'\n",
    "ELSE 'NONE' END as title\n",
    "FROM names_state \n",
    "WHERE year>1920 and year <=1930 \n",
    "GROUP BY sex\n",
    "UNION\n",
    "SELECT MIN(year)-1 AS ten_y, name,sex,MAX(num_occ),\n",
    "CASE WHEN sex ='F' then '1920 girl'\n",
    "     WHEN sex ='M' then '1920 boy'\n",
    "ELSE 'NONE' END as title\n",
    "FROM names_state \n",
    "WHERE year>1910 and year <=1920 \n",
    "GROUP BY sex\n",
    "UNION\n",
    "SELECT MIN(year)-1 AS ten_y, name,sex,MAX(num_occ),\n",
    "CASE WHEN sex ='F' then '1910 girl'\n",
    "     WHEN sex ='M' then '1910 boy'\n",
    "ELSE 'NONE' END as title\n",
    "FROM names_state \n",
    "WHERE year>1900 and year <=1910 \n",
    "GROUP BY sex\n",
    "\n",
    "ORDER BY ten_y\n",
    "''').fetchall()\n",
    "result\n"
   ]
  },
  {
   "cell_type": "code",
   "execution_count": 18,
   "id": "45a9dca6",
   "metadata": {},
   "outputs": [],
   "source": [
    "#(c) List out the most popular baby names and corresponding counts in each state \n",
    "# in 2020,order the counts in descending order"
   ]
  },
  {
   "cell_type": "code",
   "execution_count": 19,
   "id": "5f453fbf",
   "metadata": {},
   "outputs": [
    {
     "data": {
      "text/plain": [
       "[('CA', 'Noah', 2625),\n",
       " ('TX', 'Liam', 2209),\n",
       " ('FL', 'Liam', 1563),\n",
       " ('NY', 'Liam', 1358),\n",
       " ('IL', 'Noah', 710),\n",
       " ('PA', 'Noah', 694),\n",
       " ('NC', 'Liam', 687),\n",
       " ('NJ', 'Liam', 665),\n",
       " ('OH', 'Liam', 613),\n",
       " ('GA', 'Liam', 591),\n",
       " ('VA', 'Liam', 510),\n",
       " ('MI', 'Oliver', 495),\n",
       " ('MA', 'Noah', 458),\n",
       " ('AZ', 'Liam', 451),\n",
       " ('TN', 'Liam', 451),\n",
       " ('WA', 'Oliver', 430),\n",
       " ('IN', 'Oliver', 403),\n",
       " ('MD', 'Liam', 368),\n",
       " ('AL', 'William', 366),\n",
       " ('MN', 'Henry', 351),\n",
       " ('MO', 'Oliver', 345),\n",
       " ('WI', 'Oliver', 326),\n",
       " ('CO', 'Olivia', 322),\n",
       " ('SC', 'William', 279),\n",
       " ('KY', 'Liam', 274),\n",
       " ('UT', 'Oliver', 268),\n",
       " ('LA', 'Ava', 261),\n",
       " ('OR', 'Oliver', 235),\n",
       " ('OK', 'Olivia', 231),\n",
       " ('IA', 'Oliver', 213),\n",
       " ('CT', 'Noah', 212),\n",
       " ('KS', 'Olivia', 189),\n",
       " ('MS', 'James', 189),\n",
       " ('NV', 'Liam', 180),\n",
       " ('AR', 'Liam', 158),\n",
       " ('ID', 'Oliver', 142),\n",
       " ('NE', 'Olivia', 132),\n",
       " ('NM', 'Liam', 126),\n",
       " ('WV', 'Liam', 106),\n",
       " ('ME', 'Oliver', 92),\n",
       " ('RI', 'Liam', 78),\n",
       " ('NH', 'Lucas', 71),\n",
       " ('MT', 'Oliver', 68),\n",
       " ('DC', 'William', 63),\n",
       " ('HI', 'Liam', 61),\n",
       " ('SD', 'Oliver', 61),\n",
       " ('DE', 'Liam', 55),\n",
       " ('ND', 'Oliver', 50),\n",
       " ('AK', 'Liam', 44),\n",
       " ('VT', 'Oliver', 38),\n",
       " ('WY', 'Oliver', 36)]"
      ]
     },
     "execution_count": 19,
     "metadata": {},
     "output_type": "execute_result"
    }
   ],
   "source": [
    "result_MP_2020 = con.execute('''WITH DATA_2020 AS (\n",
    "                                SELECT *\n",
    "                                FROM names_state\n",
    "                                WHERE year == 2020)\n",
    "                                SELECT stateCode, name, MAX(num_occ) AS MAX_numocc\n",
    "                                FROM DATA_2020\n",
    "                                GROUP BY stateCode \n",
    "                                ORDER BY MAX_numocc DESC''').fetchall()\n",
    "\n",
    "result_MP_2020"
   ]
  }
 ],
 "metadata": {
  "kernelspec": {
   "display_name": "Python 3 (ipykernel)",
   "language": "python",
   "name": "python3"
  },
  "language_info": {
   "codemirror_mode": {
    "name": "ipython",
    "version": 3
   },
   "file_extension": ".py",
   "mimetype": "text/x-python",
   "name": "python",
   "nbconvert_exporter": "python",
   "pygments_lexer": "ipython3",
   "version": "3.9.12"
  }
 },
 "nbformat": 4,
 "nbformat_minor": 5
}
